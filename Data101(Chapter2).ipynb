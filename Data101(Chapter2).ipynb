{
  "nbformat": 4,
  "nbformat_minor": 0,
  "metadata": {
    "colab": {
      "name": "Data101(Chapter2).ipynb",
      "provenance": [],
      "authorship_tag": "ABX9TyMjGgjIXgg5Cnq4KKRDSeF9",
      "include_colab_link": true
    },
    "kernelspec": {
      "name": "python3",
      "display_name": "Python 3"
    },
    "language_info": {
      "name": "python"
    }
  },
  "cells": [
    {
      "cell_type": "markdown",
      "metadata": {
        "id": "view-in-github",
        "colab_type": "text"
      },
      "source": [
        "<a href=\"https://colab.research.google.com/github/603021852-8/DWDM21/blob/main/Data101(Chapter2).ipynb\" target=\"_parent\"><img src=\"https://colab.research.google.com/assets/colab-badge.svg\" alt=\"Open In Colab\"/></a>"
      ]
    },
    {
      "cell_type": "markdown",
      "metadata": {
        "id": "u6FVPJ0duw9r"
      },
      "source": [
        "ข้อดีหนึ่งของ python คือมี package สำหรับทำงานต่างๆมากมาย ซี่ง pandas เป็น package สำหรับการทำงานกับข้อมูลที่อยู่ในรูปแบบตารางโดย pandas จะเรียกตารางนั้นว่า datafram"
      ]
    },
    {
      "cell_type": "code",
      "metadata": {
        "id": "px6HnGGesAxE"
      },
      "source": [
        "import pandas          #วิธีเรียกใช้ package"
      ],
      "execution_count": 14,
      "outputs": []
    },
    {
      "cell_type": "code",
      "metadata": {
        "id": "1T8VHHtvtCp0"
      },
      "source": [
        "import pandas as pd # เหมือนกับข้างบนแต่ ตั้งชื่อให้ package ที่โหลดมาใหม่ว่า pd"
      ],
      "execution_count": 15,
      "outputs": []
    },
    {
      "cell_type": "markdown",
      "metadata": {
        "id": "qRg5r8EovTtX"
      },
      "source": [
        "ไฟล์ .csv (csv = comma separated values) เป็นไฟล์หลักที่เก็บข้อมูลตารางที่จะใช้กันในวิชานี้"
      ]
    },
    {
      "cell_type": "markdown",
      "metadata": {
        "id": "VJ7uP9P5ECgW"
      },
      "source": [
        "\n",
        "ลองสร้างไฟล์ csv ในนี้\n",
        "\n",
        "กดไฟล์ แล้วคลิ๊กขวาสร้างไฟล์ใหม่\n",
        "\n",
        "ดับเบิ้ลคลิ๊ก เพื่อเพิ่มข้อมูลในไฟล์\n",
        "\n",
        "แล้วไปเปลี่ยนชื่อเพิ่ม .csv"
      ]
    },
    {
      "cell_type": "code",
      "metadata": {
        "id": "Vw0nqa71EJFS"
      },
      "source": [
        "data_df = pd.read_csv('data.csv')"
      ],
      "execution_count": 19,
      "outputs": []
    },
    {
      "cell_type": "code",
      "metadata": {
        "colab": {
          "base_uri": "https://localhost:8080/",
          "height": 143
        },
        "id": "I78Jzm4hEMH3",
        "outputId": "bcb7135d-58af-4409-8218-d27f75b75c6f"
      },
      "source": [
        "data_df"
      ],
      "execution_count": 20,
      "outputs": [
        {
          "output_type": "execute_result",
          "data": {
            "text/html": [
              "<div>\n",
              "<style scoped>\n",
              "    .dataframe tbody tr th:only-of-type {\n",
              "        vertical-align: middle;\n",
              "    }\n",
              "\n",
              "    .dataframe tbody tr th {\n",
              "        vertical-align: top;\n",
              "    }\n",
              "\n",
              "    .dataframe thead th {\n",
              "        text-align: right;\n",
              "    }\n",
              "</style>\n",
              "<table border=\"1\" class=\"dataframe\">\n",
              "  <thead>\n",
              "    <tr style=\"text-align: right;\">\n",
              "      <th></th>\n",
              "      <th>name</th>\n",
              "      <th>age</th>\n",
              "      <th>city</th>\n",
              "    </tr>\n",
              "  </thead>\n",
              "  <tbody>\n",
              "    <tr>\n",
              "      <th>0</th>\n",
              "      <td>Tom</td>\n",
              "      <td>27</td>\n",
              "      <td>Khon Kaen</td>\n",
              "    </tr>\n",
              "    <tr>\n",
              "      <th>1</th>\n",
              "      <td>Paul</td>\n",
              "      <td>15</td>\n",
              "      <td>Bangkok</td>\n",
              "    </tr>\n",
              "    <tr>\n",
              "      <th>2</th>\n",
              "      <td>Sarah</td>\n",
              "      <td>49</td>\n",
              "      <td>London</td>\n",
              "    </tr>\n",
              "  </tbody>\n",
              "</table>\n",
              "</div>"
            ],
            "text/plain": [
              "    name  age       city\n",
              "0    Tom   27  Khon Kaen\n",
              "1   Paul   15    Bangkok\n",
              "2  Sarah   49     London"
            ]
          },
          "metadata": {
            "tags": []
          },
          "execution_count": 20
        }
      ]
    },
    {
      "cell_type": "code",
      "metadata": {
        "colab": {
          "base_uri": "https://localhost:8080/",
          "height": 143
        },
        "id": "VZX0haMyEQnB",
        "outputId": "63d60f06-857b-437f-b7f1-3e4bcf393a2e"
      },
      "source": [
        "data_df2 = pd.read_csv('data.csv')    #ใน1cellไม่จำเป็นต้องมีแค่ 1 คำสั่ง\n",
        "data_df2"
      ],
      "execution_count": 21,
      "outputs": [
        {
          "output_type": "execute_result",
          "data": {
            "text/html": [
              "<div>\n",
              "<style scoped>\n",
              "    .dataframe tbody tr th:only-of-type {\n",
              "        vertical-align: middle;\n",
              "    }\n",
              "\n",
              "    .dataframe tbody tr th {\n",
              "        vertical-align: top;\n",
              "    }\n",
              "\n",
              "    .dataframe thead th {\n",
              "        text-align: right;\n",
              "    }\n",
              "</style>\n",
              "<table border=\"1\" class=\"dataframe\">\n",
              "  <thead>\n",
              "    <tr style=\"text-align: right;\">\n",
              "      <th></th>\n",
              "      <th>name</th>\n",
              "      <th>age</th>\n",
              "      <th>city</th>\n",
              "    </tr>\n",
              "  </thead>\n",
              "  <tbody>\n",
              "    <tr>\n",
              "      <th>0</th>\n",
              "      <td>Tom</td>\n",
              "      <td>27</td>\n",
              "      <td>Khon Kaen</td>\n",
              "    </tr>\n",
              "    <tr>\n",
              "      <th>1</th>\n",
              "      <td>Paul</td>\n",
              "      <td>15</td>\n",
              "      <td>Bangkok</td>\n",
              "    </tr>\n",
              "    <tr>\n",
              "      <th>2</th>\n",
              "      <td>Sarah</td>\n",
              "      <td>49</td>\n",
              "      <td>London</td>\n",
              "    </tr>\n",
              "  </tbody>\n",
              "</table>\n",
              "</div>"
            ],
            "text/plain": [
              "    name  age       city\n",
              "0    Tom   27  Khon Kaen\n",
              "1   Paul   15    Bangkok\n",
              "2  Sarah   49     London"
            ]
          },
          "metadata": {
            "tags": []
          },
          "execution_count": 21
        }
      ]
    },
    {
      "cell_type": "markdown",
      "metadata": {
        "id": "KMHVo523DodH"
      },
      "source": [
        "# Basic Python\n",
        "##  variables\n"
      ]
    },
    {
      "cell_type": "markdown",
      "metadata": {
        "id": "l7Z1ps6vDrzf"
      },
      "source": [
        "ข้อกำหนดในการตั้งชื่อตัวแปร\n",
        "\n",
        "1. ชื่อห้ามมีเว้นวรรค\n",
        "2. (พยายาม)ควรใช้ภาษาอังกฤษ\n",
        "3. ตัวเล็กกับตัวใหญ่แตกต่างกัน (case sensitive)\n",
        "4. ห้ามใช้ตัวเลขเป็นตัวหน้า"
      ]
    },
    {
      "cell_type": "code",
      "metadata": {
        "id": "jhkdj6sMuvFG"
      },
      "source": [
        "variable_a = 12\n",
        "variable_b = 'abcde' # ' เรียกว่า quote\n",
        "variable_c = variable_a\n",
        "variable_d = -41.2\n",
        "variable_4 = \"KKU\" # \" เรียกว่า double quote"
      ],
      "execution_count": 22,
      "outputs": []
    },
    {
      "cell_type": "code",
      "metadata": {
        "colab": {
          "base_uri": "https://localhost:8080/"
        },
        "id": "QiKgrYxBDvZu",
        "outputId": "212ef3c6-3dae-46a5-fcc1-685bfced0700"
      },
      "source": [
        "variable_a"
      ],
      "execution_count": 23,
      "outputs": [
        {
          "output_type": "execute_result",
          "data": {
            "text/plain": [
              "12"
            ]
          },
          "metadata": {
            "tags": []
          },
          "execution_count": 23
        }
      ]
    },
    {
      "cell_type": "code",
      "metadata": {
        "colab": {
          "base_uri": "https://localhost:8080/",
          "height": 35
        },
        "id": "cL97gLJ6Fg6-",
        "outputId": "80c27a5c-9834-434b-f600-d3c34af6553a"
      },
      "source": [
        "variable_b"
      ],
      "execution_count": 24,
      "outputs": [
        {
          "output_type": "execute_result",
          "data": {
            "application/vnd.google.colaboratory.intrinsic+json": {
              "type": "string"
            },
            "text/plain": [
              "'abcde'"
            ]
          },
          "metadata": {
            "tags": []
          },
          "execution_count": 24
        }
      ]
    },
    {
      "cell_type": "code",
      "metadata": {
        "colab": {
          "base_uri": "https://localhost:8080/"
        },
        "id": "A_68aeEEFjh2",
        "outputId": "493a0ac8-10e0-463e-aab5-c57d9d4a35f1"
      },
      "source": [
        "variable_c"
      ],
      "execution_count": 25,
      "outputs": [
        {
          "output_type": "execute_result",
          "data": {
            "text/plain": [
              "12"
            ]
          },
          "metadata": {
            "tags": []
          },
          "execution_count": 25
        }
      ]
    },
    {
      "cell_type": "markdown",
      "metadata": {
        "id": "CzN0eITZFpK-"
      },
      "source": [
        "### ลองใช้ข้อกำหนดในการตั้งชื่อตัวแปร"
      ]
    },
    {
      "cell_type": "code",
      "metadata": {
        "colab": {
          "base_uri": "https://localhost:8080/",
          "height": 131
        },
        "id": "_u4NRN04Flox",
        "outputId": "61846b3c-7b02-4a8e-ba68-f937022fb66a"
      },
      "source": [
        "# ชื่อห้ามมีเว้นวรรค\n",
        "variable a = 6"
      ],
      "execution_count": 26,
      "outputs": [
        {
          "output_type": "error",
          "ename": "SyntaxError",
          "evalue": "ignored",
          "traceback": [
            "\u001b[0;36m  File \u001b[0;32m\"<ipython-input-26-126f7ab49866>\"\u001b[0;36m, line \u001b[0;32m2\u001b[0m\n\u001b[0;31m    variable a = 6\u001b[0m\n\u001b[0m             ^\u001b[0m\n\u001b[0;31mSyntaxError\u001b[0m\u001b[0;31m:\u001b[0m invalid syntax\n"
          ]
        }
      ]
    },
    {
      "cell_type": "code",
      "metadata": {
        "colab": {
          "base_uri": "https://localhost:8080/"
        },
        "id": "EqGIur29FsJJ",
        "outputId": "ff605782-72b4-498c-b727-8316d98df4d0"
      },
      "source": [
        "ตัวแปร = 3           # (พยายาม)ใช้ชื่อภาษาอังกฤษ\n",
        "ตัวแปร                # colab ใช้ภาษาไทยเป็นชื่อตัวแปรได้ แต่ไม่ควรใช้"
      ],
      "execution_count": 27,
      "outputs": [
        {
          "output_type": "execute_result",
          "data": {
            "text/plain": [
              "3"
            ]
          },
          "metadata": {
            "tags": []
          },
          "execution_count": 27
        }
      ]
    },
    {
      "cell_type": "code",
      "metadata": {
        "colab": {
          "base_uri": "https://localhost:8080/"
        },
        "id": "-QsCrVdoFwcr",
        "outputId": "fda036f2-1636-46c5-8de1-4b4975679058"
      },
      "source": [
        "# ตัวเล็กกับตัวใหญ่แตกต่างกัน (case sensitive)\n",
        "v_a = 1\n",
        "V_a = 2\n",
        "print(v_a)\n",
        "print(V_a)"
      ],
      "execution_count": 28,
      "outputs": [
        {
          "output_type": "stream",
          "text": [
            "1\n",
            "2\n"
          ],
          "name": "stdout"
        }
      ]
    },
    {
      "cell_type": "code",
      "metadata": {
        "colab": {
          "base_uri": "https://localhost:8080/"
        },
        "id": "sDKnK29cFzCa",
        "outputId": "5aed8d67-edc8-4a59-e107-74023967a4bb"
      },
      "source": [
        "# ตั้งชื่อเดียวกัน ข้อมูลทับกัน\n",
        "# ตัวเล็กกับตัวใหญ่แตกต่างกัน (case sensitive)\n",
        "v_a = 1\n",
        "v_a = 2\n",
        "print(v_a)\n",
        "print(v_a)"
      ],
      "execution_count": 29,
      "outputs": [
        {
          "output_type": "stream",
          "text": [
            "2\n",
            "2\n"
          ],
          "name": "stdout"
        }
      ]
    },
    {
      "cell_type": "code",
      "metadata": {
        "colab": {
          "base_uri": "https://localhost:8080/",
          "height": 131
        },
        "id": "mf6kKxatF1aC",
        "outputId": "f2770284-25ff-4fff-89bf-b6242bb39219"
      },
      "source": [
        "# ห้ามใช้ตัวเลขเป็นตัวหน้า\n",
        "2 = 1"
      ],
      "execution_count": 30,
      "outputs": [
        {
          "output_type": "error",
          "ename": "SyntaxError",
          "evalue": "ignored",
          "traceback": [
            "\u001b[0;36m  File \u001b[0;32m\"<ipython-input-30-24eb8a2ec18c>\"\u001b[0;36m, line \u001b[0;32m2\u001b[0m\n\u001b[0;31m    2 = 1\u001b[0m\n\u001b[0m         ^\u001b[0m\n\u001b[0;31mSyntaxError\u001b[0m\u001b[0;31m:\u001b[0m can't assign to literal\n"
          ]
        }
      ]
    },
    {
      "cell_type": "code",
      "metadata": {
        "colab": {
          "base_uri": "https://localhost:8080/",
          "height": 131
        },
        "id": "r2y1lio0F3k8",
        "outputId": "9dda6dd8-c403-479f-b78f-7444bbff6bf4"
      },
      "source": [
        "2ab = 1   # ห้ามใช้ตัวเลขเป็นตัวหน้า"
      ],
      "execution_count": 31,
      "outputs": [
        {
          "output_type": "error",
          "ename": "SyntaxError",
          "evalue": "ignored",
          "traceback": [
            "\u001b[0;36m  File \u001b[0;32m\"<ipython-input-31-77b945f53209>\"\u001b[0;36m, line \u001b[0;32m1\u001b[0m\n\u001b[0;31m    2ab = 1   # ห้ามใช้ตัวเลขเป็นตัวหน้า\u001b[0m\n\u001b[0m      ^\u001b[0m\n\u001b[0;31mSyntaxError\u001b[0m\u001b[0;31m:\u001b[0m invalid syntax\n"
          ]
        }
      ]
    },
    {
      "cell_type": "code",
      "metadata": {
        "colab": {
          "base_uri": "https://localhost:8080/"
        },
        "id": "AbtNCsmWF6Tr",
        "outputId": "0fa98313-cfd8-45ef-c5b2-a4a1252cd160"
      },
      "source": [
        "variable = 1     #ห้ามใช้ตัวเลขเป็นตัวหน้า\n",
        "print(variable)"
      ],
      "execution_count": 32,
      "outputs": [
        {
          "output_type": "stream",
          "text": [
            "1\n"
          ],
          "name": "stdout"
        }
      ]
    },
    {
      "cell_type": "markdown",
      "metadata": {
        "id": "NO2TDn-lGW3o"
      },
      "source": [
        "### นี่เป็นการตั้งชื่อที่ถูกต้อง"
      ]
    },
    {
      "cell_type": "code",
      "metadata": {
        "id": "OkzqTKmgF9J7"
      },
      "source": [
        "variable_a = 12\n",
        "variable_b = 'abcde'  # ' เรียกว่า quote (มี quote แสดงว่าข้อความเป็นstring)\n",
        "variable_c = variable_a\n",
        "variable_d = -41.2\n",
        "variable_4 = \"KKU\"  # \" เรียกว่า double quote"
      ],
      "execution_count": 36,
      "outputs": []
    },
    {
      "cell_type": "code",
      "metadata": {
        "colab": {
          "base_uri": "https://localhost:8080/"
        },
        "id": "2n9Si1A3GZ7Z",
        "outputId": "809890c2-b1ef-4072-e6f0-64b2f586eaad"
      },
      "source": [
        "variable_x = variable_c + variable_d\n",
        "print(variable_x)"
      ],
      "execution_count": 37,
      "outputs": [
        {
          "output_type": "stream",
          "text": [
            "-29.200000000000003\n"
          ],
          "name": "stdout"
        }
      ]
    },
    {
      "cell_type": "code",
      "metadata": {
        "colab": {
          "base_uri": "https://localhost:8080/",
          "height": 165
        },
        "id": "7px6CM1kGcM-",
        "outputId": "74b77c43-0a8a-44a8-ccfe-1434abf87c66"
      },
      "source": [
        "variable_a + variable_b  # ตัวเลขบวกกับตัวหนังสือไม่ได้"
      ],
      "execution_count": 38,
      "outputs": [
        {
          "output_type": "error",
          "ename": "TypeError",
          "evalue": "ignored",
          "traceback": [
            "\u001b[0;31m---------------------------------------------------------------------------\u001b[0m",
            "\u001b[0;31mTypeError\u001b[0m                                 Traceback (most recent call last)",
            "\u001b[0;32m<ipython-input-38-f91cbeb6c43b>\u001b[0m in \u001b[0;36m<module>\u001b[0;34m()\u001b[0m\n\u001b[0;32m----> 1\u001b[0;31m \u001b[0mvariable_a\u001b[0m \u001b[0;34m+\u001b[0m \u001b[0mvariable_b\u001b[0m  \u001b[0;31m# ตัวเลขบวกกับตัวหนังสือไม่ได้\u001b[0m\u001b[0;34m\u001b[0m\u001b[0;34m\u001b[0m\u001b[0m\n\u001b[0m",
            "\u001b[0;31mTypeError\u001b[0m: unsupported operand type(s) for +: 'int' and 'str'"
          ]
        }
      ]
    },
    {
      "cell_type": "code",
      "metadata": {
        "colab": {
          "base_uri": "https://localhost:8080/"
        },
        "id": "G7z1IMDqGejd",
        "outputId": "937d93b8-0837-4bb6-f2c4-680202e4da44"
      },
      "source": [
        "print(variable_b + variable_4)  # ตัวหนังสือก็จะรวมเข้าด้วยกัน"
      ],
      "execution_count": 39,
      "outputs": [
        {
          "output_type": "stream",
          "text": [
            "abcdeKKU\n"
          ],
          "name": "stdout"
        }
      ]
    },
    {
      "cell_type": "markdown",
      "metadata": {
        "id": "dwcnqnauGk0o"
      },
      "source": [
        "## Casting int() float() str() \n",
        "สามารถเปลี่ยนชนิดของตัวแปรได้"
      ]
    },
    {
      "cell_type": "code",
      "metadata": {
        "colab": {
          "base_uri": "https://localhost:8080/"
        },
        "id": "SW4DydA9GhjZ",
        "outputId": "dffa8f7b-3701-4d86-b7c1-797654af3c7e"
      },
      "source": [
        "print(variable_x)\n",
        "print(int(variable_x))"
      ],
      "execution_count": 40,
      "outputs": [
        {
          "output_type": "stream",
          "text": [
            "-29.200000000000003\n",
            "-29\n"
          ],
          "name": "stdout"
        }
      ]
    },
    {
      "cell_type": "code",
      "metadata": {
        "colab": {
          "base_uri": "https://localhost:8080/"
        },
        "id": "uRfzrXXTGnvB",
        "outputId": "9afe489a-fb26-4e63-900f-4a0eafa21ea4"
      },
      "source": [
        "V_X = str(variable_x)\n",
        "print(V_X)"
      ],
      "execution_count": 41,
      "outputs": [
        {
          "output_type": "stream",
          "text": [
            "-29.200000000000003\n"
          ],
          "name": "stdout"
        }
      ]
    },
    {
      "cell_type": "code",
      "metadata": {
        "colab": {
          "base_uri": "https://localhost:8080/",
          "height": 165
        },
        "id": "hxmlHfUbGp1P",
        "outputId": "a96c819a-7058-4428-ac4d-609666b9beb0"
      },
      "source": [
        "V_X + variable_a  # string บวกกับตัวเลขไม่ได้"
      ],
      "execution_count": 42,
      "outputs": [
        {
          "output_type": "error",
          "ename": "TypeError",
          "evalue": "ignored",
          "traceback": [
            "\u001b[0;31m---------------------------------------------------------------------------\u001b[0m",
            "\u001b[0;31mTypeError\u001b[0m                                 Traceback (most recent call last)",
            "\u001b[0;32m<ipython-input-42-ed04b4043281>\u001b[0m in \u001b[0;36m<module>\u001b[0;34m()\u001b[0m\n\u001b[0;32m----> 1\u001b[0;31m \u001b[0mV_X\u001b[0m \u001b[0;34m+\u001b[0m \u001b[0mvariable_a\u001b[0m  \u001b[0;31m# string บวกกับตัวเลขไม่ได้\u001b[0m\u001b[0;34m\u001b[0m\u001b[0;34m\u001b[0m\u001b[0m\n\u001b[0m",
            "\u001b[0;31mTypeError\u001b[0m: can only concatenate str (not \"int\") to str"
          ]
        }
      ]
    },
    {
      "cell_type": "code",
      "metadata": {
        "colab": {
          "base_uri": "https://localhost:8080/",
          "height": 35
        },
        "id": "Xe3rzORYGsSP",
        "outputId": "1bece1b7-3b6c-4bad-9116-6a8dd1d3b7f4"
      },
      "source": [
        "V_X  # quote อยู่แสดงว่าเป็น string"
      ],
      "execution_count": 43,
      "outputs": [
        {
          "output_type": "execute_result",
          "data": {
            "application/vnd.google.colaboratory.intrinsic+json": {
              "type": "string"
            },
            "text/plain": [
              "'-29.200000000000003'"
            ]
          },
          "metadata": {
            "tags": []
          },
          "execution_count": 43
        }
      ]
    },
    {
      "cell_type": "code",
      "metadata": {
        "colab": {
          "base_uri": "https://localhost:8080/"
        },
        "id": "oBxJYMfSGufs",
        "outputId": "a9f2aa8b-0812-481c-d60d-0997879201f5"
      },
      "source": [
        "float(V_X)  # เปลี่ยน string ให้เป็นตัวเลข"
      ],
      "execution_count": 44,
      "outputs": [
        {
          "output_type": "execute_result",
          "data": {
            "text/plain": [
              "-29.200000000000003"
            ]
          },
          "metadata": {
            "tags": []
          },
          "execution_count": 44
        }
      ]
    },
    {
      "cell_type": "markdown",
      "metadata": {
        "id": "PbqFa1HsGz8R"
      },
      "source": [
        "## Data Structure\n",
        "### list()"
      ]
    },
    {
      "cell_type": "code",
      "metadata": {
        "id": "NPOxNceeGw28"
      },
      "source": [
        "# วิธีสร้างlist แบบง่ายๆ\n",
        "list_a = [1,2,0.2,'abs']  # [] square brackets\n",
        "list_b = [2,'xyz',list_a,[1,2,0.0]]"
      ],
      "execution_count": 45,
      "outputs": []
    },
    {
      "cell_type": "code",
      "metadata": {
        "colab": {
          "base_uri": "https://localhost:8080/"
        },
        "id": "Zkhn-uB4G5C8",
        "outputId": "ba2ce30d-5000-40ea-d28d-8789829d397f"
      },
      "source": [
        "list_a"
      ],
      "execution_count": 46,
      "outputs": [
        {
          "output_type": "execute_result",
          "data": {
            "text/plain": [
              "[1, 2, 0.2, 'abs']"
            ]
          },
          "metadata": {
            "tags": []
          },
          "execution_count": 46
        }
      ]
    },
    {
      "cell_type": "code",
      "metadata": {
        "colab": {
          "base_uri": "https://localhost:8080/"
        },
        "id": "3b9tunK0G7Lb",
        "outputId": "b563a320-5435-474d-bd88-a765169b0943"
      },
      "source": [
        "list_b"
      ],
      "execution_count": 47,
      "outputs": [
        {
          "output_type": "execute_result",
          "data": {
            "text/plain": [
              "[2, 'xyz', [1, 2, 0.2, 'abs'], [1, 2, 0.0]]"
            ]
          },
          "metadata": {
            "tags": []
          },
          "execution_count": 47
        }
      ]
    },
    {
      "cell_type": "code",
      "metadata": {
        "colab": {
          "base_uri": "https://localhost:8080/"
        },
        "id": "Jsqodo_YG9f9",
        "outputId": "67f1cd6a-1941-4e3e-8e78-59619521793f"
      },
      "source": [
        "len(list_b)  # ดูว่ามีสมาชิกกี่ตัว"
      ],
      "execution_count": 48,
      "outputs": [
        {
          "output_type": "execute_result",
          "data": {
            "text/plain": [
              "4"
            ]
          },
          "metadata": {
            "tags": []
          },
          "execution_count": 48
        }
      ]
    },
    {
      "cell_type": "code",
      "metadata": {
        "colab": {
          "base_uri": "https://localhost:8080/"
        },
        "id": "RiOhlJFqHAdn",
        "outputId": "592edd16-0e86-4f4a-c8df-4d9ed3691199"
      },
      "source": [
        "# ชี้สมาชิก เพื่อดึงค่ามันออกมา\n",
        "list_b[3]"
      ],
      "execution_count": 49,
      "outputs": [
        {
          "output_type": "execute_result",
          "data": {
            "text/plain": [
              "[1, 2, 0.0]"
            ]
          },
          "metadata": {
            "tags": []
          },
          "execution_count": 49
        }
      ]
    },
    {
      "cell_type": "code",
      "metadata": {
        "colab": {
          "base_uri": "https://localhost:8080/"
        },
        "id": "Ubf2LgwQHDX5",
        "outputId": "af6f0699-9d29-4c82-afea-197a66a9e605"
      },
      "source": [
        "# สามารถชี้ซ้อนกันได้ เหมือนกับหาค่าที่ซ้ำกัน\n",
        "list_b[3][1]"
      ],
      "execution_count": 50,
      "outputs": [
        {
          "output_type": "execute_result",
          "data": {
            "text/plain": [
              "2"
            ]
          },
          "metadata": {
            "tags": []
          },
          "execution_count": 50
        }
      ]
    },
    {
      "cell_type": "markdown",
      "metadata": {
        "id": "3iaeYuWeHJCX"
      },
      "source": [
        "####string คือ list ของตัวหนังสือ"
      ]
    },
    {
      "cell_type": "code",
      "metadata": {
        "id": "vKfsdGBXHF8E"
      },
      "source": [
        "a = 'Stat KKU'"
      ],
      "execution_count": 51,
      "outputs": []
    },
    {
      "cell_type": "code",
      "metadata": {
        "colab": {
          "base_uri": "https://localhost:8080/",
          "height": 35
        },
        "id": "tiOFyTMsHNsd",
        "outputId": "77b88e4f-37a9-47bb-b141-c35fb7778aa8"
      },
      "source": [
        "a[4]  # ชี้ตัวที่4จะได้เป็นเว้นวรรค"
      ],
      "execution_count": 52,
      "outputs": [
        {
          "output_type": "execute_result",
          "data": {
            "application/vnd.google.colaboratory.intrinsic+json": {
              "type": "string"
            },
            "text/plain": [
              "' '"
            ]
          },
          "metadata": {
            "tags": []
          },
          "execution_count": 52
        }
      ]
    },
    {
      "cell_type": "markdown",
      "metadata": {
        "id": "pd1cNzC6HTRw"
      },
      "source": [
        "### วิธีสร้าง list ว่าง แบบที่ 2"
      ]
    },
    {
      "cell_type": "code",
      "metadata": {
        "id": "J8TtRkxiHQOq"
      },
      "source": [
        "list_c = list()  # แบบที่ 1\n",
        "list_d = []  # แบบที่ 2"
      ],
      "execution_count": 53,
      "outputs": []
    },
    {
      "cell_type": "code",
      "metadata": {
        "colab": {
          "base_uri": "https://localhost:8080/"
        },
        "id": "pogPFs8FHYaj",
        "outputId": "dbb672c4-a97d-47ec-9b80-dc52a8269575"
      },
      "source": [
        "list_c"
      ],
      "execution_count": 54,
      "outputs": [
        {
          "output_type": "execute_result",
          "data": {
            "text/plain": [
              "[]"
            ]
          },
          "metadata": {
            "tags": []
          },
          "execution_count": 54
        }
      ]
    },
    {
      "cell_type": "code",
      "metadata": {
        "colab": {
          "base_uri": "https://localhost:8080/"
        },
        "id": "AjPGiWOwHahD",
        "outputId": "70892873-2d3b-4abb-b823-dd220de5c450"
      },
      "source": [
        "list_d"
      ],
      "execution_count": 55,
      "outputs": [
        {
          "output_type": "execute_result",
          "data": {
            "text/plain": [
              "[]"
            ]
          },
          "metadata": {
            "tags": []
          },
          "execution_count": 55
        }
      ]
    },
    {
      "cell_type": "markdown",
      "metadata": {
        "id": "F3iseu1jHe1r"
      },
      "source": [
        "####เติมค่าลงไปใน list(.append())"
      ]
    },
    {
      "cell_type": "code",
      "metadata": {
        "id": "sXgRGH7bHcSY"
      },
      "source": [
        "list_d.append('a')"
      ],
      "execution_count": 56,
      "outputs": []
    },
    {
      "cell_type": "code",
      "metadata": {
        "id": "iAmB-Rj8Hmto"
      },
      "source": [
        "list_d"
      ],
      "execution_count": null,
      "outputs": []
    },
    {
      "cell_type": "code",
      "metadata": {
        "id": "YUoyRstwHrHT"
      },
      "source": [
        "list_d.append(56)"
      ],
      "execution_count": 58,
      "outputs": []
    },
    {
      "cell_type": "code",
      "metadata": {
        "colab": {
          "base_uri": "https://localhost:8080/"
        },
        "id": "0Xy-rOC9HutZ",
        "outputId": "ce55de92-8989-40c1-bd1c-bf05be9cda92"
      },
      "source": [
        "list_d"
      ],
      "execution_count": 59,
      "outputs": [
        {
          "output_type": "execute_result",
          "data": {
            "text/plain": [
              "['a', 56]"
            ]
          },
          "metadata": {
            "tags": []
          },
          "execution_count": 59
        }
      ]
    },
    {
      "cell_type": "markdown",
      "metadata": {
        "id": "jBnazrJ-H00j"
      },
      "source": [
        "# การชี้ค่าใน list (indexing)\n",
        "1. ใช้ลำดับในการชี้\n",
        "2. ลำดับเริ่มจาก 0\n",
        "3. สามารถชี้จากข้างหลังโดยใช้ negative index"
      ]
    },
    {
      "cell_type": "code",
      "metadata": {
        "colab": {
          "base_uri": "https://localhost:8080/"
        },
        "id": "idD4OlA_Hx4F",
        "outputId": "5ce77971-b40c-4634-b0d0-4aeb12a61e6c"
      },
      "source": [
        "list_b"
      ],
      "execution_count": 60,
      "outputs": [
        {
          "output_type": "execute_result",
          "data": {
            "text/plain": [
              "[2, 'xyz', [1, 2, 0.2, 'abs'], [1, 2, 0.0]]"
            ]
          },
          "metadata": {
            "tags": []
          },
          "execution_count": 60
        }
      ]
    },
    {
      "cell_type": "code",
      "metadata": {
        "colab": {
          "base_uri": "https://localhost:8080/"
        },
        "id": "cbg50-WdH736",
        "outputId": "67cc3059-45fa-4b06-ae12-3612d297eb23"
      },
      "source": [
        "list_b[-1]"
      ],
      "execution_count": 61,
      "outputs": [
        {
          "output_type": "execute_result",
          "data": {
            "text/plain": [
              "[1, 2, 0.0]"
            ]
          },
          "metadata": {
            "tags": []
          },
          "execution_count": 61
        }
      ]
    },
    {
      "cell_type": "markdown",
      "metadata": {
        "id": "9eKGr37mIApM"
      },
      "source": [
        "### list slicing\n",
        "สามารถที่จะเลือกบางส่วนของ list ออกมาได้"
      ]
    },
    {
      "cell_type": "code",
      "metadata": {
        "id": "TxXndxG7H9-S"
      },
      "source": [
        "list_ex = [1,2,3,5,6,8,-1,20,50,0]"
      ],
      "execution_count": 62,
      "outputs": []
    },
    {
      "cell_type": "markdown",
      "metadata": {
        "id": "VW5HFkWzIEt4"
      },
      "source": [
        "เราจะตัด list โดยเอาตั้งแต่ [ตัวหน้า:ตัวก่อนตัวหลัง]\n",
        "\n",
        "ถ้าเป็นสัญลักษณ์ทางคณิตศาสตร์ [ตัวหน้า:ตัวหลัง] -> [ตัวหน้า,ตัวหลัง)"
      ]
    },
    {
      "cell_type": "code",
      "metadata": {
        "colab": {
          "base_uri": "https://localhost:8080/"
        },
        "id": "i6vwqqeRIEDK",
        "outputId": "45a22d01-97b4-466d-88ef-15ddae5df483"
      },
      "source": [
        "list_ex[1:6]  # เริ่มตั้งแต่ตัวที่ 1 จนถึงตัวที่ 5"
      ],
      "execution_count": 63,
      "outputs": [
        {
          "output_type": "execute_result",
          "data": {
            "text/plain": [
              "[2, 3, 5, 6, 8]"
            ]
          },
          "metadata": {
            "tags": []
          },
          "execution_count": 63
        }
      ]
    },
    {
      "cell_type": "code",
      "metadata": {
        "colab": {
          "base_uri": "https://localhost:8080/"
        },
        "id": "1308Z2L1IJr-",
        "outputId": "3b122a22-8105-454d-dd64-4ec8fc1deb7e"
      },
      "source": [
        "list_ex[4:]  # เริ่มตั้งแต่ตัวที่ 4 จนถึงตัวสุดท้าย"
      ],
      "execution_count": 64,
      "outputs": [
        {
          "output_type": "execute_result",
          "data": {
            "text/plain": [
              "[6, 8, -1, 20, 50, 0]"
            ]
          },
          "metadata": {
            "tags": []
          },
          "execution_count": 64
        }
      ]
    },
    {
      "cell_type": "code",
      "metadata": {
        "colab": {
          "base_uri": "https://localhost:8080/"
        },
        "id": "By-pHP3IIMTc",
        "outputId": "475fcfc6-817e-4053-9fc9-52f687b0755f"
      },
      "source": [
        "list_ex[:6]  # เริ่มตั้งแต่ตัวแรกจนถึงตัวที่ 5"
      ],
      "execution_count": 65,
      "outputs": [
        {
          "output_type": "execute_result",
          "data": {
            "text/plain": [
              "[1, 2, 3, 5, 6, 8]"
            ]
          },
          "metadata": {
            "tags": []
          },
          "execution_count": 65
        }
      ]
    },
    {
      "cell_type": "markdown",
      "metadata": {
        "id": "XbV_XAf_ISNA"
      },
      "source": [
        "####[จุดเริ่มต้น:จุดสุดท้าย:step]"
      ]
    },
    {
      "cell_type": "code",
      "metadata": {
        "colab": {
          "base_uri": "https://localhost:8080/"
        },
        "id": "1JNGunWyIOlV",
        "outputId": "fd5f0a42-5c57-4ea8-ab59-3ad5023d3a9a"
      },
      "source": [
        "list_ex[::2]  # เอาตั้งแต่ตัวแรกจนถึงตัวที่สุดท้าย โดยใช้ step2(กระโดดทีละ2)"
      ],
      "execution_count": 66,
      "outputs": [
        {
          "output_type": "execute_result",
          "data": {
            "text/plain": [
              "[1, 3, 6, -1, 50]"
            ]
          },
          "metadata": {
            "tags": []
          },
          "execution_count": 66
        }
      ]
    },
    {
      "cell_type": "code",
      "metadata": {
        "colab": {
          "base_uri": "https://localhost:8080/"
        },
        "id": "BgfORG-qIVv1",
        "outputId": "fc15ade7-bba1-4da7-ecdb-3f9aced0a056"
      },
      "source": [
        "list_ex[::-1]  # การกลับ list (ถ้าเป็นลบ จะกลับ list ให้เลย)"
      ],
      "execution_count": 67,
      "outputs": [
        {
          "output_type": "execute_result",
          "data": {
            "text/plain": [
              "[0, 50, 20, -1, 8, 6, 5, 3, 2, 1]"
            ]
          },
          "metadata": {
            "tags": []
          },
          "execution_count": 67
        }
      ]
    },
    {
      "cell_type": "code",
      "metadata": {
        "colab": {
          "base_uri": "https://localhost:8080/",
          "height": 35
        },
        "id": "q2GvQuPeIYQi",
        "outputId": "32f3b7d3-29a6-4962-fbf9-fcc52348816b"
      },
      "source": [
        "a"
      ],
      "execution_count": 68,
      "outputs": [
        {
          "output_type": "execute_result",
          "data": {
            "application/vnd.google.colaboratory.intrinsic+json": {
              "type": "string"
            },
            "text/plain": [
              "'Stat KKU'"
            ]
          },
          "metadata": {
            "tags": []
          },
          "execution_count": 68
        }
      ]
    },
    {
      "cell_type": "code",
      "metadata": {
        "colab": {
          "base_uri": "https://localhost:8080/",
          "height": 35
        },
        "id": "o0ZVSwa5Ia-1",
        "outputId": "38b8d305-55d3-4cda-895c-cf509a21fd77"
      },
      "source": [
        "a[5:]"
      ],
      "execution_count": 69,
      "outputs": [
        {
          "output_type": "execute_result",
          "data": {
            "application/vnd.google.colaboratory.intrinsic+json": {
              "type": "string"
            },
            "text/plain": [
              "'KKU'"
            ]
          },
          "metadata": {
            "tags": []
          },
          "execution_count": 69
        }
      ]
    },
    {
      "cell_type": "code",
      "metadata": {
        "colab": {
          "base_uri": "https://localhost:8080/",
          "height": 35
        },
        "id": "WcYClsojIdCr",
        "outputId": "9ee9a232-ced4-4582-b40f-cd161b5d20a2"
      },
      "source": [
        "a[-3:]"
      ],
      "execution_count": 70,
      "outputs": [
        {
          "output_type": "execute_result",
          "data": {
            "application/vnd.google.colaboratory.intrinsic+json": {
              "type": "string"
            },
            "text/plain": [
              "'KKU'"
            ]
          },
          "metadata": {
            "tags": []
          },
          "execution_count": 70
        }
      ]
    },
    {
      "cell_type": "code",
      "metadata": {
        "colab": {
          "base_uri": "https://localhost:8080/",
          "height": 35
        },
        "id": "fceCZ9juIfJE",
        "outputId": "095e386c-64ce-4c3b-d531-1b1c2f7103c6"
      },
      "source": [
        "a[5:8]"
      ],
      "execution_count": 71,
      "outputs": [
        {
          "output_type": "execute_result",
          "data": {
            "application/vnd.google.colaboratory.intrinsic+json": {
              "type": "string"
            },
            "text/plain": [
              "'KKU'"
            ]
          },
          "metadata": {
            "tags": []
          },
          "execution_count": 71
        }
      ]
    },
    {
      "cell_type": "code",
      "metadata": {
        "colab": {
          "base_uri": "https://localhost:8080/",
          "height": 35
        },
        "id": "F2X236ERIh3d",
        "outputId": "4917361c-c5eb-47a6-803c-e8e830cae1f7"
      },
      "source": [
        "a[-3::1]"
      ],
      "execution_count": 72,
      "outputs": [
        {
          "output_type": "execute_result",
          "data": {
            "application/vnd.google.colaboratory.intrinsic+json": {
              "type": "string"
            },
            "text/plain": [
              "'KKU'"
            ]
          },
          "metadata": {
            "tags": []
          },
          "execution_count": 72
        }
      ]
    },
    {
      "cell_type": "markdown",
      "metadata": {
        "id": "Z9ShNWOEInvQ"
      },
      "source": [
        "## list + list"
      ]
    },
    {
      "cell_type": "code",
      "metadata": {
        "colab": {
          "base_uri": "https://localhost:8080/"
        },
        "id": "uJTDYr9hIkVv",
        "outputId": "a6c2249e-120b-437d-f4e4-96c00a085a71"
      },
      "source": [
        "print(list_a)\n",
        "print(list_b)"
      ],
      "execution_count": 73,
      "outputs": [
        {
          "output_type": "stream",
          "text": [
            "[1, 2, 0.2, 'abs']\n",
            "[2, 'xyz', [1, 2, 0.2, 'abs'], [1, 2, 0.0]]\n"
          ],
          "name": "stdout"
        }
      ]
    },
    {
      "cell_type": "code",
      "metadata": {
        "colab": {
          "base_uri": "https://localhost:8080/"
        },
        "id": "DfBTJAlwIq2L",
        "outputId": "80f81ca9-d943-439f-cd5c-09f7d00ef84f"
      },
      "source": [
        "list_a + list_b  # เอา list มาต่อกัน"
      ],
      "execution_count": 74,
      "outputs": [
        {
          "output_type": "execute_result",
          "data": {
            "text/plain": [
              "[1, 2, 0.2, 'abs', 2, 'xyz', [1, 2, 0.2, 'abs'], [1, 2, 0.0]]"
            ]
          },
          "metadata": {
            "tags": []
          },
          "execution_count": 74
        }
      ]
    },
    {
      "cell_type": "markdown",
      "metadata": {
        "id": "_XR__S8mIvXr"
      },
      "source": [
        "####format string"
      ]
    },
    {
      "cell_type": "code",
      "metadata": {
        "colab": {
          "base_uri": "https://localhost:8080/",
          "height": 35
        },
        "id": "mTpiMPbfItTA",
        "outputId": "4f8df6eb-4a2c-4e26-e61f-8cc52aa96759"
      },
      "source": [
        "f'string{ตัวแปร}'"
      ],
      "execution_count": 75,
      "outputs": [
        {
          "output_type": "execute_result",
          "data": {
            "application/vnd.google.colaboratory.intrinsic+json": {
              "type": "string"
            },
            "text/plain": [
              "'string3'"
            ]
          },
          "metadata": {
            "tags": []
          },
          "execution_count": 75
        }
      ]
    },
    {
      "cell_type": "markdown",
      "metadata": {
        "id": "Daqla-RgI1Xh"
      },
      "source": [
        "{} เรียกว่า curly brackets"
      ]
    },
    {
      "cell_type": "code",
      "metadata": {
        "colab": {
          "base_uri": "https://localhost:8080/",
          "height": 35
        },
        "id": "DjhlbA1oIzP0",
        "outputId": "a5ce2cfb-0599-4c17-fb6f-037c0ead48eb"
      },
      "source": [
        "f'ตัวแปร list_a มีค่าคือ {list_a}'"
      ],
      "execution_count": 76,
      "outputs": [
        {
          "output_type": "execute_result",
          "data": {
            "application/vnd.google.colaboratory.intrinsic+json": {
              "type": "string"
            },
            "text/plain": [
              "\"ตัวแปร list_a มีค่าคือ [1, 2, 0.2, 'abs']\""
            ]
          },
          "metadata": {
            "tags": []
          },
          "execution_count": 76
        }
      ]
    },
    {
      "cell_type": "markdown",
      "metadata": {
        "id": "oNb4NVeUI89C"
      },
      "source": [
        "# Loop\n",
        "การทำซ้ำๆ หรือที่คล้ายๆกัน"
      ]
    },
    {
      "cell_type": "markdown",
      "metadata": {
        "id": "B1jc8bI4JiYo"
      },
      "source": [
        "```python\n",
        "for ตัวแปรที่จะรับค่าจากลิส in ลิสที่จะนำมาวนลูป:\n",
        "    do something\n",
        "```"
      ]
    },
    {
      "cell_type": "code",
      "metadata": {
        "colab": {
          "base_uri": "https://localhost:8080/"
        },
        "id": "ByJBS4gqJBxC",
        "outputId": "b5ba7901-2813-4ff2-c76b-8628cbf03495"
      },
      "source": [
        "for i in [1,2,3,4,5]:\n",
        "    print(i+1)"
      ],
      "execution_count": 77,
      "outputs": [
        {
          "output_type": "stream",
          "text": [
            "2\n",
            "3\n",
            "4\n",
            "5\n",
            "6\n"
          ],
          "name": "stdout"
        }
      ]
    },
    {
      "cell_type": "code",
      "metadata": {
        "colab": {
          "base_uri": "https://localhost:8080/"
        },
        "id": "zeHsBM5UJJLN",
        "outputId": "b59a8b02-b2fb-471e-e256-ace01b7a5a0f"
      },
      "source": [
        "for x in [1,2,3,4,5]:\n",
        "    print(f'ค่าตัวแปร x คือ {x} และ x+2={x+2}')"
      ],
      "execution_count": 78,
      "outputs": [
        {
          "output_type": "stream",
          "text": [
            "ค่าตัวแปร x คือ 1 และ x+2=3\n",
            "ค่าตัวแปร x คือ 2 และ x+2=4\n",
            "ค่าตัวแปร x คือ 3 และ x+2=5\n",
            "ค่าตัวแปร x คือ 4 และ x+2=6\n",
            "ค่าตัวแปร x คือ 5 และ x+2=7\n"
          ],
          "name": "stdout"
        }
      ]
    },
    {
      "cell_type": "code",
      "metadata": {
        "colab": {
          "base_uri": "https://localhost:8080/"
        },
        "id": "gv2m0l2JJL3t",
        "outputId": "4406d81b-49eb-4aed-bc76-64dc6c7621e0"
      },
      "source": [
        "list5 = [1,2,3,4,5]\n",
        "for x in list5:\n",
        "    print(f'ค่าตัวแปร x คือ {x} และ x+2={x+2}')"
      ],
      "execution_count": 79,
      "outputs": [
        {
          "output_type": "stream",
          "text": [
            "ค่าตัวแปร x คือ 1 และ x+2=3\n",
            "ค่าตัวแปร x คือ 2 และ x+2=4\n",
            "ค่าตัวแปร x คือ 3 และ x+2=5\n",
            "ค่าตัวแปร x คือ 4 และ x+2=6\n",
            "ค่าตัวแปร x คือ 5 และ x+2=7\n"
          ],
          "name": "stdout"
        }
      ]
    },
    {
      "cell_type": "code",
      "metadata": {
        "colab": {
          "base_uri": "https://localhost:8080/"
        },
        "id": "GW4zFG2KJO0d",
        "outputId": "7b13ae88-8afb-48ac-c90d-1d3d12d00468"
      },
      "source": [
        "list(range(10))"
      ],
      "execution_count": 80,
      "outputs": [
        {
          "output_type": "execute_result",
          "data": {
            "text/plain": [
              "[0, 1, 2, 3, 4, 5, 6, 7, 8, 9]"
            ]
          },
          "metadata": {
            "tags": []
          },
          "execution_count": 80
        }
      ]
    },
    {
      "cell_type": "code",
      "metadata": {
        "colab": {
          "base_uri": "https://localhost:8080/"
        },
        "id": "BQrOfA2aJo-F",
        "outputId": "de8f666f-2d2b-4f92-a4af-8eefaf01740f"
      },
      "source": [
        "for i in range(2,7):\n",
        "    print(i)"
      ],
      "execution_count": 81,
      "outputs": [
        {
          "output_type": "stream",
          "text": [
            "2\n",
            "3\n",
            "4\n",
            "5\n",
            "6\n"
          ],
          "name": "stdout"
        }
      ]
    },
    {
      "cell_type": "code",
      "metadata": {
        "colab": {
          "base_uri": "https://localhost:8080/"
        },
        "id": "SWa52TzUJraW",
        "outputId": "df4ace09-1e70-416e-d1f3-3a4b77e26ca5"
      },
      "source": [
        "for i in range(2,7,2):  # สร้าง2ถึง7 กระโดดทีละ2\n",
        "    print(i)"
      ],
      "execution_count": 82,
      "outputs": [
        {
          "output_type": "stream",
          "text": [
            "2\n",
            "4\n",
            "6\n"
          ],
          "name": "stdout"
        }
      ]
    },
    {
      "cell_type": "code",
      "metadata": {
        "colab": {
          "base_uri": "https://localhost:8080/"
        },
        "id": "yIEH4PIZJuBW",
        "outputId": "0973ad2d-7b83-445a-a0c8-5cca6b447c03"
      },
      "source": [
        "for i in range(5):\n",
        "    print('hahaha')\n",
        "    x = i + 3\n",
        "    print(f'i={i} x={x}')"
      ],
      "execution_count": 83,
      "outputs": [
        {
          "output_type": "stream",
          "text": [
            "hahaha\n",
            "i=0 x=3\n",
            "hahaha\n",
            "i=1 x=4\n",
            "hahaha\n",
            "i=2 x=5\n",
            "hahaha\n",
            "i=3 x=6\n",
            "hahaha\n",
            "i=4 x=7\n"
          ],
          "name": "stdout"
        }
      ]
    },
    {
      "cell_type": "markdown",
      "metadata": {
        "id": "YvQbr2T5J0OB"
      },
      "source": [
        "### Nested loop"
      ]
    },
    {
      "cell_type": "code",
      "metadata": {
        "colab": {
          "base_uri": "https://localhost:8080/"
        },
        "id": "MLyVojnzJwgb",
        "outputId": "b6b910a5-05b2-47e4-c8b2-e433c79ed064"
      },
      "source": [
        "for i in range(3):\n",
        "    print(f'now i = {i}')\n",
        "    print('start j loop')\n",
        "    for j in range(4):\n",
        "          print(f'i={i} j={j} i+j={i+j}')\n",
        "    print('end j loop')"
      ],
      "execution_count": 84,
      "outputs": [
        {
          "output_type": "stream",
          "text": [
            "now i = 0\n",
            "start j loop\n",
            "i=0 j=0 i+j=0\n",
            "i=0 j=1 i+j=1\n",
            "i=0 j=2 i+j=2\n",
            "i=0 j=3 i+j=3\n",
            "end j loop\n",
            "now i = 1\n",
            "start j loop\n",
            "i=1 j=0 i+j=1\n",
            "i=1 j=1 i+j=2\n",
            "i=1 j=2 i+j=3\n",
            "i=1 j=3 i+j=4\n",
            "end j loop\n",
            "now i = 2\n",
            "start j loop\n",
            "i=2 j=0 i+j=2\n",
            "i=2 j=1 i+j=3\n",
            "i=2 j=2 i+j=4\n",
            "i=2 j=3 i+j=5\n",
            "end j loop\n"
          ],
          "name": "stdout"
        }
      ]
    },
    {
      "cell_type": "markdown",
      "metadata": {
        "id": "w0NMt9c3J6nN"
      },
      "source": [
        "## Condition (if ststement)\n"
      ]
    },
    {
      "cell_type": "markdown",
      "metadata": {
        "id": "o4oJ5JHMFa4d"
      },
      "source": [
        "\n",
        "\n",
        "```python\n",
        "if เงื่อนไขที่จะตรวจสอบ  (==,!=,<=,>=,<,>):\n",
        "     ถ้าเงื่อนไขเป็นจริง ทำงาน 1\n",
        "     ถ้าเงื่อนไขเป็นจริง ทำงาน 2\n",
        "     else: #ตรสจสอบเงื่อนไขข้างบนแล้วไม่เป็นจริง\n",
        "     ทำงานที่ X\n",
        "```\n",
        "\n"
      ]
    },
    {
      "cell_type": "code",
      "metadata": {
        "id": "NNMgIFWaJ2_S"
      },
      "source": [
        "stringx = 'refegmu4ct923tf4jvgowgh'\n",
        "\n",
        "if len(stringx) > 30:\n",
        "     print(f'{stringx} is longer than 30 characters')"
      ],
      "execution_count": 99,
      "outputs": []
    },
    {
      "cell_type": "code",
      "metadata": {
        "id": "xhXLdY9eG6Rx",
        "outputId": "52e9efc9-6241-4983-b8d1-43830a25675a",
        "colab": {
          "base_uri": "https://localhost:8080/"
        }
      },
      "source": [
        "stringx = 'refegmu4ct923tf4jvgowgh'\n",
        "\n",
        "if len(stringx) > 100:\n",
        "     print(f'{stringx} is longer than 100 characters')\n",
        "else:\n",
        "       print(f'{stringx} in {len(stringx)} characters long' )"
      ],
      "execution_count": 100,
      "outputs": [
        {
          "output_type": "stream",
          "text": [
            "refegmu4ct923tf4jvgowgh in 23 characters long\n"
          ],
          "name": "stdout"
        }
      ]
    },
    {
      "cell_type": "markdown",
      "metadata": {
        "id": "sOVlhlatJcQj"
      },
      "source": [
        "\n",
        "```python\n",
        "if เงื่อนไขที่จะตรวจสอบ  (==,!=,<=,>=,<,>):\n",
        "     ถ้าเงื่อนไขเป็นจริง ทำงานที่ 1\n",
        "     ถ้าเงื่อนไขเป็นจริง ทำงานที่ 2\n",
        "else: #เงื่อนไขที่จะตรวจสอบต่อไปถ้าเงื่อนไขข้างบนแล้วไม่เป็นจริง:\n",
        "      ถ้าเงื่อนไขเป็นจริง ทำงานที่ 1\n",
        "      ถ้าเงื่อนไขเป็นจริง ทำงานที่ 2\n",
        " else: #เงื่อนไขที่จะตรวจสอบต่อไปถ้าเงื่อนไขข้างบนแล้วไม่เป็นจริง\n",
        "       ถ้าเงื่อนไขเป็นจริง ทำงานที่ b1 \n",
        "       ถ้าเงื่อนไขเป็นจริง ทำงานที่ b2 \n",
        "else: #ตรวจสอบเงื่อนไขข้างบนแล้วไม่เป็นจริง         \n",
        "```"
      ]
    },
    {
      "cell_type": "code",
      "metadata": {
        "id": "ujWfjf--LNPt",
        "outputId": "dc8a8164-6cf3-4848-e0c0-1830eba8fff8",
        "colab": {
          "base_uri": "https://localhost:8080/"
        }
      },
      "source": [
        "password = '12345'\n",
        "\n",
        "input_pass = '123sf'\n",
        "if  input_pass == password:\n",
        "      print('Welcome!')\n",
        "elif len(input_pass) > len(password):\n",
        "      print('Too long, try again!')\n",
        "elif len(input_pass) > len(password):\n",
        "      print('Too short, try again!')     \n",
        "else:\n",
        "      print('Wrong password, try again!') \n",
        "\n"
      ],
      "execution_count": 112,
      "outputs": [
        {
          "output_type": "stream",
          "text": [
            "Wrong password, try again!\n"
          ],
          "name": "stdout"
        }
      ]
    },
    {
      "cell_type": "markdown",
      "metadata": {
        "id": "3Ib95blcKh6P"
      },
      "source": [
        "#Quiz 1\n",
        "หา min"
      ]
    },
    {
      "cell_type": "code",
      "metadata": {
        "id": "bUPlkps2ODzO"
      },
      "source": [
        "list_ex = [1,5,9,-2,0] #หาค่าที่น้อยที่สุดใน list_ex โดยไม่ใช้ function min"
      ],
      "execution_count": 118,
      "outputs": []
    },
    {
      "cell_type": "code",
      "metadata": {
        "id": "DVUgJF6XPII6",
        "outputId": "62196e87-c41c-4cd6-d587-85cdcd4c494f",
        "colab": {
          "base_uri": "https://localhost:8080/",
          "height": 130
        }
      },
      "source": [
        "def min_loop(list_ex):\n",
        "     x = list_ex[0]\n",
        "     for n in  list_ex:\n",
        "        if n < x:\n",
        "    return x\n",
        " if _name_ == '_main_':\n",
        "     list_ex = [1,5,9,-2,0]\n",
        "     print(min_loop(list_ex))       "
      ],
      "execution_count": 123,
      "outputs": [
        {
          "output_type": "error",
          "ename": "IndentationError",
          "evalue": "ignored",
          "traceback": [
            "\u001b[0;36m  File \u001b[0;32m\"<ipython-input-123-2d96e68a0d51>\"\u001b[0;36m, line \u001b[0;32m5\u001b[0m\n\u001b[0;31m    return x\u001b[0m\n\u001b[0m            ^\u001b[0m\n\u001b[0;31mIndentationError\u001b[0m\u001b[0;31m:\u001b[0m unindent does not match any outer indentation level\n"
          ]
        }
      ]
    },
    {
      "cell_type": "markdown",
      "metadata": {
        "id": "IS3GLX6ySzxO"
      },
      "source": [
        "##เฉลยquiz"
      ]
    },
    {
      "cell_type": "code",
      "metadata": {
        "id": "YTVmSL3XSyb1",
        "outputId": "135ca2f0-dec7-4d51-a0ad-5e6e1af10ce7",
        "colab": {
          "base_uri": "https://localhost:8080/",
          "height": 130
        }
      },
      "source": [
        "min = 100000\n",
        "\n",
        "for i in list_ex:\n",
        "   if i < min:\n",
        "        min = i\n",
        "\n",
        " print(min)    "
      ],
      "execution_count": 129,
      "outputs": [
        {
          "output_type": "error",
          "ename": "IndentationError",
          "evalue": "ignored",
          "traceback": [
            "\u001b[0;36m  File \u001b[0;32m\"<ipython-input-129-6c12e4b597f0>\"\u001b[0;36m, line \u001b[0;32m7\u001b[0m\n\u001b[0;31m    print(min)\u001b[0m\n\u001b[0m                  ^\u001b[0m\n\u001b[0;31mIndentationError\u001b[0m\u001b[0;31m:\u001b[0m unindent does not match any outer indentation level\n"
          ]
        }
      ]
    },
    {
      "cell_type": "markdown",
      "metadata": {
        "id": "IeGC857nLCWx"
      },
      "source": [
        "#HW 3\n",
        "ตัดเกรด"
      ]
    },
    {
      "cell_type": "code",
      "metadata": {
        "id": "PDu7efeAHdQb"
      },
      "source": [
        ""
      ],
      "execution_count": null,
      "outputs": []
    }
  ]
}